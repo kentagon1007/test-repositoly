{
 "cells": [
  {
   "cell_type": "code",
   "execution_count": 4,
   "metadata": {},
   "outputs": [],
   "source": [
    "import glob\n",
    "import numpy as np\n",
    "import pandas as pd\n",
    "import seaborn as sns\n",
    "import matplotlib\n",
    "import matplotlib.pyplot as plt\n",
    "#from matplotlib.ticker import *\n",
    "from tqdm import tqdm_notebook as tqdm\n",
    "sns.set()"
   ]
  },
  {
   "cell_type": "code",
   "execution_count": 5,
   "metadata": {},
   "outputs": [
    {
     "data": {
      "application/vnd.jupyter.widget-view+json": {
       "model_id": "9631f87f7e264aa797a3b838ae245cd2",
       "version_major": 2,
       "version_minor": 0
      },
      "text/plain": [
       "HBox(children=(IntProgress(value=0, max=96), HTML(value='')))"
      ]
     },
     "metadata": {},
     "output_type": "display_data"
    },
    {
     "name": "stdout",
     "output_type": "stream",
     "text": [
      "\n"
     ]
    },
    {
     "data": {
      "text/html": [
       "<div>\n",
       "<style scoped>\n",
       "    .dataframe tbody tr th:only-of-type {\n",
       "        vertical-align: middle;\n",
       "    }\n",
       "\n",
       "    .dataframe tbody tr th {\n",
       "        vertical-align: top;\n",
       "    }\n",
       "\n",
       "    .dataframe thead th {\n",
       "        text-align: right;\n",
       "    }\n",
       "</style>\n",
       "<table border=\"1\" class=\"dataframe\">\n",
       "  <thead>\n",
       "    <tr style=\"text-align: right;\">\n",
       "      <th></th>\n",
       "      <th>DATE</th>\n",
       "      <th>横浜支店send(throughput)</th>\n",
       "      <th>横浜支店receive(throughput)</th>\n",
       "      <th>京都支店send(throughput)</th>\n",
       "      <th>京都支店receive(throughput)</th>\n",
       "      <th>札幌統轄支店send(throughput)</th>\n",
       "      <th>札幌統轄支店receive(throughput)</th>\n",
       "      <th>東京支店send(throughput)</th>\n",
       "      <th>東京支店receive(throughput)</th>\n",
       "      <th>福岡支店send(throughput)</th>\n",
       "      <th>...</th>\n",
       "      <th>代官町ビル#1send(throughput)</th>\n",
       "      <th>代官町ビル#1receive(throughput)</th>\n",
       "      <th>ＦＩＣ　ＵＮＯ接続　ＧＡsend(throughput)</th>\n",
       "      <th>ＦＩＣ　ＵＮＯ接続　ＧＡreceive(throughput)</th>\n",
       "      <th>甲府寮send(throughput)</th>\n",
       "      <th>甲府寮receive(throughput)</th>\n",
       "      <th>初台#1send(throughput)</th>\n",
       "      <th>初台#1receive(throughput)</th>\n",
       "      <th>ＦＩＣ　ＵＮＯ接続　ＧＡsend(throughput)</th>\n",
       "      <th>ＦＩＣ　ＵＮＯ接続　ＧＡreceive(throughput)</th>\n",
       "    </tr>\n",
       "  </thead>\n",
       "  <tbody>\n",
       "    <tr>\n",
       "      <th>0</th>\n",
       "      <td>2020-07-01 00:00:00</td>\n",
       "      <td>18316.24</td>\n",
       "      <td>30319.04</td>\n",
       "      <td>11264.13</td>\n",
       "      <td>3183.493</td>\n",
       "      <td>15622.88</td>\n",
       "      <td>3870.640</td>\n",
       "      <td>24360.19</td>\n",
       "      <td>7123.413</td>\n",
       "      <td>18715.570</td>\n",
       "      <td>...</td>\n",
       "      <td>1778.160</td>\n",
       "      <td>1286892.0</td>\n",
       "      <td>1155367.0</td>\n",
       "      <td>1751411.0</td>\n",
       "      <td>4241.067</td>\n",
       "      <td>1889.520</td>\n",
       "      <td>16332500.0</td>\n",
       "      <td>2405658.0</td>\n",
       "      <td>16338.560</td>\n",
       "      <td>28233.87</td>\n",
       "    </tr>\n",
       "    <tr>\n",
       "      <th>1</th>\n",
       "      <td>2020-07-01 00:05:00</td>\n",
       "      <td>21824.88</td>\n",
       "      <td>37803.36</td>\n",
       "      <td>12852.88</td>\n",
       "      <td>3471.013</td>\n",
       "      <td>18114.77</td>\n",
       "      <td>5189.813</td>\n",
       "      <td>20776.99</td>\n",
       "      <td>5817.040</td>\n",
       "      <td>10744.910</td>\n",
       "      <td>...</td>\n",
       "      <td>4094.587</td>\n",
       "      <td>1576429.0</td>\n",
       "      <td>359812.2</td>\n",
       "      <td>1273651.0</td>\n",
       "      <td>4194.773</td>\n",
       "      <td>1870.000</td>\n",
       "      <td>574751.8</td>\n",
       "      <td>787147.4</td>\n",
       "      <td>11537.890</td>\n",
       "      <td>21678.03</td>\n",
       "    </tr>\n",
       "    <tr>\n",
       "      <th>2</th>\n",
       "      <td>2020-07-01 00:10:00</td>\n",
       "      <td>20521.79</td>\n",
       "      <td>39531.31</td>\n",
       "      <td>11691.15</td>\n",
       "      <td>3222.160</td>\n",
       "      <td>16880.43</td>\n",
       "      <td>5348.773</td>\n",
       "      <td>22759.36</td>\n",
       "      <td>6203.627</td>\n",
       "      <td>8847.227</td>\n",
       "      <td>...</td>\n",
       "      <td>2439.707</td>\n",
       "      <td>1225108.0</td>\n",
       "      <td>304375.6</td>\n",
       "      <td>879705.7</td>\n",
       "      <td>3580.027</td>\n",
       "      <td>1948.880</td>\n",
       "      <td>2028415.0</td>\n",
       "      <td>746287.8</td>\n",
       "      <td>7900.427</td>\n",
       "      <td>15413.92</td>\n",
       "    </tr>\n",
       "    <tr>\n",
       "      <th>3</th>\n",
       "      <td>2020-07-01 00:15:00</td>\n",
       "      <td>19350.43</td>\n",
       "      <td>37269.84</td>\n",
       "      <td>11359.76</td>\n",
       "      <td>3041.147</td>\n",
       "      <td>14934.11</td>\n",
       "      <td>4262.453</td>\n",
       "      <td>23944.83</td>\n",
       "      <td>6406.347</td>\n",
       "      <td>9576.107</td>\n",
       "      <td>...</td>\n",
       "      <td>3229.653</td>\n",
       "      <td>1246520.0</td>\n",
       "      <td>336555.2</td>\n",
       "      <td>792874.1</td>\n",
       "      <td>4103.707</td>\n",
       "      <td>1770.373</td>\n",
       "      <td>303383.0</td>\n",
       "      <td>397581.8</td>\n",
       "      <td>7625.253</td>\n",
       "      <td>14920.16</td>\n",
       "    </tr>\n",
       "    <tr>\n",
       "      <th>4</th>\n",
       "      <td>2020-07-01 00:20:00</td>\n",
       "      <td>19651.23</td>\n",
       "      <td>37531.95</td>\n",
       "      <td>10853.15</td>\n",
       "      <td>3136.800</td>\n",
       "      <td>16456.48</td>\n",
       "      <td>4443.627</td>\n",
       "      <td>22542.85</td>\n",
       "      <td>6214.480</td>\n",
       "      <td>10982.610</td>\n",
       "      <td>...</td>\n",
       "      <td>2063.840</td>\n",
       "      <td>1271627.0</td>\n",
       "      <td>380361.1</td>\n",
       "      <td>530244.7</td>\n",
       "      <td>4129.013</td>\n",
       "      <td>1847.440</td>\n",
       "      <td>260338.0</td>\n",
       "      <td>611179.0</td>\n",
       "      <td>5871.840</td>\n",
       "      <td>14194.53</td>\n",
       "    </tr>\n",
       "  </tbody>\n",
       "</table>\n",
       "<p>5 rows × 193 columns</p>\n",
       "</div>"
      ],
      "text/plain": [
       "                 DATE  横浜支店send(throughput)  横浜支店receive(throughput)  \\\n",
       "0 2020-07-01 00:00:00              18316.24                 30319.04   \n",
       "1 2020-07-01 00:05:00              21824.88                 37803.36   \n",
       "2 2020-07-01 00:10:00              20521.79                 39531.31   \n",
       "3 2020-07-01 00:15:00              19350.43                 37269.84   \n",
       "4 2020-07-01 00:20:00              19651.23                 37531.95   \n",
       "\n",
       "   京都支店send(throughput)  京都支店receive(throughput)  札幌統轄支店send(throughput)  \\\n",
       "0              11264.13                 3183.493                15622.88   \n",
       "1              12852.88                 3471.013                18114.77   \n",
       "2              11691.15                 3222.160                16880.43   \n",
       "3              11359.76                 3041.147                14934.11   \n",
       "4              10853.15                 3136.800                16456.48   \n",
       "\n",
       "   札幌統轄支店receive(throughput)  東京支店send(throughput)  東京支店receive(throughput)  \\\n",
       "0                   3870.640              24360.19                 7123.413   \n",
       "1                   5189.813              20776.99                 5817.040   \n",
       "2                   5348.773              22759.36                 6203.627   \n",
       "3                   4262.453              23944.83                 6406.347   \n",
       "4                   4443.627              22542.85                 6214.480   \n",
       "\n",
       "   福岡支店send(throughput)  ...  代官町ビル#1send(throughput)  \\\n",
       "0             18715.570  ...                 1778.160   \n",
       "1             10744.910  ...                 4094.587   \n",
       "2              8847.227  ...                 2439.707   \n",
       "3              9576.107  ...                 3229.653   \n",
       "4             10982.610  ...                 2063.840   \n",
       "\n",
       "   代官町ビル#1receive(throughput)  ＦＩＣ　ＵＮＯ接続　ＧＡsend(throughput)  \\\n",
       "0                   1286892.0                     1155367.0   \n",
       "1                   1576429.0                      359812.2   \n",
       "2                   1225108.0                      304375.6   \n",
       "3                   1246520.0                      336555.2   \n",
       "4                   1271627.0                      380361.1   \n",
       "\n",
       "   ＦＩＣ　ＵＮＯ接続　ＧＡreceive(throughput)  甲府寮send(throughput)  \\\n",
       "0                        1751411.0             4241.067   \n",
       "1                        1273651.0             4194.773   \n",
       "2                         879705.7             3580.027   \n",
       "3                         792874.1             4103.707   \n",
       "4                         530244.7             4129.013   \n",
       "\n",
       "   甲府寮receive(throughput)  初台#1send(throughput)  初台#1receive(throughput)  \\\n",
       "0                1889.520            16332500.0                2405658.0   \n",
       "1                1870.000              574751.8                 787147.4   \n",
       "2                1948.880             2028415.0                 746287.8   \n",
       "3                1770.373              303383.0                 397581.8   \n",
       "4                1847.440              260338.0                 611179.0   \n",
       "\n",
       "   ＦＩＣ　ＵＮＯ接続　ＧＡsend(throughput)  ＦＩＣ　ＵＮＯ接続　ＧＡreceive(throughput)  \n",
       "0                     16338.560                         28233.87  \n",
       "1                     11537.890                         21678.03  \n",
       "2                      7900.427                         15413.92  \n",
       "3                      7625.253                         14920.16  \n",
       "4                      5871.840                         14194.53  \n",
       "\n",
       "[5 rows x 193 columns]"
      ]
     },
     "metadata": {},
     "output_type": "display_data"
    },
    {
     "data": {
      "text/html": [
       "<div>\n",
       "<style scoped>\n",
       "    .dataframe tbody tr th:only-of-type {\n",
       "        vertical-align: middle;\n",
       "    }\n",
       "\n",
       "    .dataframe tbody tr th {\n",
       "        vertical-align: top;\n",
       "    }\n",
       "\n",
       "    .dataframe thead th {\n",
       "        text-align: right;\n",
       "    }\n",
       "</style>\n",
       "<table border=\"1\" class=\"dataframe\">\n",
       "  <thead>\n",
       "    <tr style=\"text-align: right;\">\n",
       "      <th></th>\n",
       "      <th>DATE</th>\n",
       "      <th>横浜支店send(throughput)</th>\n",
       "      <th>横浜支店receive(throughput)</th>\n",
       "      <th>京都支店send(throughput)</th>\n",
       "      <th>京都支店receive(throughput)</th>\n",
       "      <th>札幌統轄支店send(throughput)</th>\n",
       "      <th>札幌統轄支店receive(throughput)</th>\n",
       "      <th>東京支店send(throughput)</th>\n",
       "      <th>東京支店receive(throughput)</th>\n",
       "      <th>福岡支店send(throughput)</th>\n",
       "      <th>...</th>\n",
       "      <th>代官町ビル#1send(throughput)</th>\n",
       "      <th>代官町ビル#1receive(throughput)</th>\n",
       "      <th>ＦＩＣ　ＵＮＯ接続　ＧＡsend(throughput)</th>\n",
       "      <th>ＦＩＣ　ＵＮＯ接続　ＧＡreceive(throughput)</th>\n",
       "      <th>甲府寮send(throughput)</th>\n",
       "      <th>甲府寮receive(throughput)</th>\n",
       "      <th>初台#1send(throughput)</th>\n",
       "      <th>初台#1receive(throughput)</th>\n",
       "      <th>ＦＩＣ　ＵＮＯ接続　ＧＡsend(throughput)</th>\n",
       "      <th>ＦＩＣ　ＵＮＯ接続　ＧＡreceive(throughput)</th>\n",
       "    </tr>\n",
       "  </thead>\n",
       "  <tbody>\n",
       "    <tr>\n",
       "      <th>0</th>\n",
       "      <td>2020/07/01 00:00</td>\n",
       "      <td>0.061054</td>\n",
       "      <td>0.101064</td>\n",
       "      <td>0.112641</td>\n",
       "      <td>0.031835</td>\n",
       "      <td>0.052076</td>\n",
       "      <td>0.012902</td>\n",
       "      <td>0.081201</td>\n",
       "      <td>0.023745</td>\n",
       "      <td>0.062385</td>\n",
       "      <td>...</td>\n",
       "      <td>0.005927</td>\n",
       "      <td>4.289640</td>\n",
       "      <td>0.385122</td>\n",
       "      <td>0.583804</td>\n",
       "      <td>0.042411</td>\n",
       "      <td>0.018895</td>\n",
       "      <td>8.166249</td>\n",
       "      <td>1.202829</td>\n",
       "      <td>0.016339</td>\n",
       "      <td>0.028234</td>\n",
       "    </tr>\n",
       "    <tr>\n",
       "      <th>1</th>\n",
       "      <td>2020/07/01 00:05</td>\n",
       "      <td>0.072750</td>\n",
       "      <td>0.126011</td>\n",
       "      <td>0.128529</td>\n",
       "      <td>0.034710</td>\n",
       "      <td>0.060383</td>\n",
       "      <td>0.017299</td>\n",
       "      <td>0.069257</td>\n",
       "      <td>0.019390</td>\n",
       "      <td>0.035816</td>\n",
       "      <td>...</td>\n",
       "      <td>0.013649</td>\n",
       "      <td>5.254762</td>\n",
       "      <td>0.119937</td>\n",
       "      <td>0.424550</td>\n",
       "      <td>0.041948</td>\n",
       "      <td>0.018700</td>\n",
       "      <td>0.287376</td>\n",
       "      <td>0.393574</td>\n",
       "      <td>0.011538</td>\n",
       "      <td>0.021678</td>\n",
       "    </tr>\n",
       "    <tr>\n",
       "      <th>2</th>\n",
       "      <td>2020/07/01 00:10</td>\n",
       "      <td>0.068406</td>\n",
       "      <td>0.131771</td>\n",
       "      <td>0.116912</td>\n",
       "      <td>0.032222</td>\n",
       "      <td>0.056268</td>\n",
       "      <td>0.017829</td>\n",
       "      <td>0.075865</td>\n",
       "      <td>0.020679</td>\n",
       "      <td>0.029491</td>\n",
       "      <td>...</td>\n",
       "      <td>0.008132</td>\n",
       "      <td>4.083693</td>\n",
       "      <td>0.101459</td>\n",
       "      <td>0.293235</td>\n",
       "      <td>0.035800</td>\n",
       "      <td>0.019489</td>\n",
       "      <td>1.014207</td>\n",
       "      <td>0.373144</td>\n",
       "      <td>0.007900</td>\n",
       "      <td>0.015414</td>\n",
       "    </tr>\n",
       "    <tr>\n",
       "      <th>3</th>\n",
       "      <td>2020/07/01 00:15</td>\n",
       "      <td>0.064501</td>\n",
       "      <td>0.124233</td>\n",
       "      <td>0.113598</td>\n",
       "      <td>0.030411</td>\n",
       "      <td>0.049780</td>\n",
       "      <td>0.014208</td>\n",
       "      <td>0.079816</td>\n",
       "      <td>0.021354</td>\n",
       "      <td>0.031920</td>\n",
       "      <td>...</td>\n",
       "      <td>0.010766</td>\n",
       "      <td>4.155068</td>\n",
       "      <td>0.112185</td>\n",
       "      <td>0.264291</td>\n",
       "      <td>0.041037</td>\n",
       "      <td>0.017704</td>\n",
       "      <td>0.151692</td>\n",
       "      <td>0.198791</td>\n",
       "      <td>0.007625</td>\n",
       "      <td>0.014920</td>\n",
       "    </tr>\n",
       "    <tr>\n",
       "      <th>4</th>\n",
       "      <td>2020/07/01 00:20</td>\n",
       "      <td>0.065504</td>\n",
       "      <td>0.125107</td>\n",
       "      <td>0.108532</td>\n",
       "      <td>0.031368</td>\n",
       "      <td>0.054855</td>\n",
       "      <td>0.014812</td>\n",
       "      <td>0.075143</td>\n",
       "      <td>0.020715</td>\n",
       "      <td>0.036609</td>\n",
       "      <td>...</td>\n",
       "      <td>0.006879</td>\n",
       "      <td>4.238758</td>\n",
       "      <td>0.126787</td>\n",
       "      <td>0.176748</td>\n",
       "      <td>0.041290</td>\n",
       "      <td>0.018474</td>\n",
       "      <td>0.130169</td>\n",
       "      <td>0.305590</td>\n",
       "      <td>0.005872</td>\n",
       "      <td>0.014195</td>\n",
       "    </tr>\n",
       "  </tbody>\n",
       "</table>\n",
       "<p>5 rows × 193 columns</p>\n",
       "</div>"
      ],
      "text/plain": [
       "               DATE  横浜支店send(throughput)  横浜支店receive(throughput)  \\\n",
       "0  2020/07/01 00:00              0.061054                 0.101064   \n",
       "1  2020/07/01 00:05              0.072750                 0.126011   \n",
       "2  2020/07/01 00:10              0.068406                 0.131771   \n",
       "3  2020/07/01 00:15              0.064501                 0.124233   \n",
       "4  2020/07/01 00:20              0.065504                 0.125107   \n",
       "\n",
       "   京都支店send(throughput)  京都支店receive(throughput)  札幌統轄支店send(throughput)  \\\n",
       "0              0.112641                 0.031835                0.052076   \n",
       "1              0.128529                 0.034710                0.060383   \n",
       "2              0.116912                 0.032222                0.056268   \n",
       "3              0.113598                 0.030411                0.049780   \n",
       "4              0.108532                 0.031368                0.054855   \n",
       "\n",
       "   札幌統轄支店receive(throughput)  東京支店send(throughput)  東京支店receive(throughput)  \\\n",
       "0                   0.012902              0.081201                 0.023745   \n",
       "1                   0.017299              0.069257                 0.019390   \n",
       "2                   0.017829              0.075865                 0.020679   \n",
       "3                   0.014208              0.079816                 0.021354   \n",
       "4                   0.014812              0.075143                 0.020715   \n",
       "\n",
       "   福岡支店send(throughput)  ...  代官町ビル#1send(throughput)  \\\n",
       "0              0.062385  ...                 0.005927   \n",
       "1              0.035816  ...                 0.013649   \n",
       "2              0.029491  ...                 0.008132   \n",
       "3              0.031920  ...                 0.010766   \n",
       "4              0.036609  ...                 0.006879   \n",
       "\n",
       "   代官町ビル#1receive(throughput)  ＦＩＣ　ＵＮＯ接続　ＧＡsend(throughput)  \\\n",
       "0                    4.289640                      0.385122   \n",
       "1                    5.254762                      0.119937   \n",
       "2                    4.083693                      0.101459   \n",
       "3                    4.155068                      0.112185   \n",
       "4                    4.238758                      0.126787   \n",
       "\n",
       "   ＦＩＣ　ＵＮＯ接続　ＧＡreceive(throughput)  甲府寮send(throughput)  \\\n",
       "0                         0.583804             0.042411   \n",
       "1                         0.424550             0.041948   \n",
       "2                         0.293235             0.035800   \n",
       "3                         0.264291             0.041037   \n",
       "4                         0.176748             0.041290   \n",
       "\n",
       "   甲府寮receive(throughput)  初台#1send(throughput)  初台#1receive(throughput)  \\\n",
       "0                0.018895              8.166249                 1.202829   \n",
       "1                0.018700              0.287376                 0.393574   \n",
       "2                0.019489              1.014207                 0.373144   \n",
       "3                0.017704              0.151692                 0.198791   \n",
       "4                0.018474              0.130169                 0.305590   \n",
       "\n",
       "   ＦＩＣ　ＵＮＯ接続　ＧＡsend(throughput)  ＦＩＣ　ＵＮＯ接続　ＧＡreceive(throughput)  \n",
       "0                      0.016339                         0.028234  \n",
       "1                      0.011538                         0.021678  \n",
       "2                      0.007900                         0.015414  \n",
       "3                      0.007625                         0.014920  \n",
       "4                      0.005872                         0.014195  \n",
       "\n",
       "[5 rows x 193 columns]"
      ]
     },
     "metadata": {},
     "output_type": "display_data"
    }
   ],
   "source": [
    "import glob\n",
    "import numpy as np\n",
    "import pandas as pd\n",
    "import seaborn as sns\n",
    "import matplotlib\n",
    "import matplotlib.pyplot as plt\n",
    "#from matplotlib.ticker import *\n",
    "from tqdm import tqdm_notebook as tqdm\n",
    "sns.set()\n",
    "#Pythonでフォルダ内のファイルリストを取得する\n",
    "#https://qiita.com/amowwee/items/e63b3610ea750f7dba1b\n",
    "\n",
    "csv_list = glob.glob('C:\\\\Users\\\\Admin\\\\Desktop\\V12100160_20200701-20200801\\\\*.csv')\n",
    "site_info = pd.read_csv('C:\\\\Users\\\\Admin\\\\Desktop\\\\site_information.csv')\n",
    "\n",
    "traffic_arate = []\n",
    "\n",
    "for i in tqdm(range(len(csv_list))):\n",
    "    if i == 0 :\n",
    "        csv_data_percentage = pd.read_csv(csv_list[i]).drop(columns=['bandwidth',\n",
    "                                                          'time-throughput(send)',\n",
    "                                                          'time-throughput(receive)'])\n",
    "        csv_data = pd.read_csv(csv_list[i]).drop(columns=['bandwidth',\n",
    "                                                          'time-busyline(send)',\n",
    "                                                          'time-busyline(receive)'])        \n",
    "\n",
    "        site_name = site_info[site_info['circuit_ID'] == csv_list[i][-32:-22]]['Site_name'].values.astype(str)\n",
    "        csv_data.columns = ['DATE',\n",
    "                            site_name[0]+'send(throughput)',\n",
    "                            site_name[0]+'receive(throughput)']\n",
    "        csv_data_percentage.columns = ['DATE',\n",
    "                            site_name[0]+'send(throughput)',\n",
    "                            site_name[0]+'receive(throughput)',]\n",
    "        csv_data['DATE'] = pd.to_datetime(csv_data['DATE'])\n",
    "        \n",
    "    else :\n",
    "        csv_app_data_percentage = pd.read_csv(csv_list[i]).drop(columns=['DATE',\n",
    "                                                                         'bandwidth',\n",
    "                                                                         'time-throughput(send)',\n",
    "                                                                         'time-throughput(receive)'])\n",
    "        \n",
    "        csv_app_data = pd.read_csv(csv_list[i]).drop(columns=['DATE',\n",
    "                                                              'bandwidth',\n",
    "                                                              'time-busyline(send)',\n",
    "                                                              'time-busyline(receive)'])  \n",
    "        site_name = site_info[site_info['circuit_ID'] == csv_list[i][-32:-22]]['Site_name'].values.astype(str)\n",
    "        csv_app_data.columns = [site_name[0]+'send(throughput)',\n",
    "                                site_name[0]+'receive(throughput)']\n",
    "        csv_app_data_percentage.columns = [site_name[0]+'send(throughput)',\n",
    "                                           site_name[0]+'receive(throughput)']  \n",
    "        csv_data = pd.concat([csv_data, csv_app_data], axis=1)\n",
    "        csv_data_percentage = pd.concat([csv_data_percentage, csv_app_data_percentage], axis=1)\n",
    "\n",
    "display(csv_data.head())\n",
    "display(csv_data_percentage.head())"
   ]
  },
  {
   "cell_type": "code",
   "execution_count": 3,
   "metadata": {},
   "outputs": [
    {
     "ename": "IndexError",
     "evalue": "positional indexers are out-of-bounds",
     "output_type": "error",
     "traceback": [
      "\u001b[1;31m---------------------------------------------------------------------------\u001b[0m",
      "\u001b[1;31mIndexError\u001b[0m                                Traceback (most recent call last)",
      "\u001b[1;32m<ipython-input-3-c2909364471e>\u001b[0m in \u001b[0;36m<module>\u001b[1;34m\u001b[0m\n\u001b[0;32m      1\u001b[0m \u001b[0ma\u001b[0m \u001b[1;33m=\u001b[0m \u001b[1;36m193\u001b[0m\u001b[1;33m\u001b[0m\u001b[1;33m\u001b[0m\u001b[0m\n\u001b[1;32m----> 2\u001b[1;33m \u001b[0mdisplay\u001b[0m\u001b[1;33m(\u001b[0m\u001b[0mcsv_data\u001b[0m\u001b[1;33m.\u001b[0m\u001b[0miloc\u001b[0m\u001b[1;33m[\u001b[0m\u001b[1;33m:\u001b[0m\u001b[1;33m,\u001b[0m\u001b[1;33m[\u001b[0m\u001b[1;36m0\u001b[0m\u001b[1;33m,\u001b[0m\u001b[0ma\u001b[0m\u001b[1;33m,\u001b[0m\u001b[0ma\u001b[0m\u001b[1;33m+\u001b[0m\u001b[1;36m1\u001b[0m\u001b[1;33m]\u001b[0m\u001b[1;33m]\u001b[0m\u001b[1;33m.\u001b[0m\u001b[0mhead\u001b[0m\u001b[1;33m(\u001b[0m\u001b[1;36m0\u001b[0m\u001b[1;33m)\u001b[0m\u001b[1;33m)\u001b[0m\u001b[1;33m\u001b[0m\u001b[1;33m\u001b[0m\u001b[0m\n\u001b[0m\u001b[0;32m      3\u001b[0m \u001b[1;31m#display(csv_data.iloc[:,[0,a,a+1]].describe())\u001b[0m\u001b[1;33m\u001b[0m\u001b[1;33m\u001b[0m\u001b[1;33m\u001b[0m\u001b[0m\n\u001b[0;32m      4\u001b[0m \u001b[0myokohama\u001b[0m \u001b[1;33m=\u001b[0m \u001b[0mcsv_data\u001b[0m\u001b[1;33m.\u001b[0m\u001b[0miloc\u001b[0m\u001b[1;33m[\u001b[0m\u001b[1;33m:\u001b[0m\u001b[1;33m,\u001b[0m\u001b[1;33m[\u001b[0m\u001b[1;36m0\u001b[0m\u001b[1;33m,\u001b[0m\u001b[0ma\u001b[0m\u001b[1;33m,\u001b[0m\u001b[0ma\u001b[0m\u001b[1;33m+\u001b[0m\u001b[1;36m1\u001b[0m\u001b[1;33m]\u001b[0m\u001b[1;33m]\u001b[0m\u001b[1;33m\u001b[0m\u001b[1;33m\u001b[0m\u001b[0m\n\u001b[0;32m      5\u001b[0m \u001b[1;31m#yokohama['diff_send', 'diff_receive'] = csv_data.iloc[:,1:3].diff()\u001b[0m\u001b[1;33m\u001b[0m\u001b[1;33m\u001b[0m\u001b[1;33m\u001b[0m\u001b[0m\n",
      "\u001b[1;32m~\\Anaconda3\\lib\\site-packages\\pandas\\core\\indexing.py\u001b[0m in \u001b[0;36m__getitem__\u001b[1;34m(self, key)\u001b[0m\n\u001b[0;32m   1492\u001b[0m             \u001b[1;32mexcept\u001b[0m \u001b[1;33m(\u001b[0m\u001b[0mKeyError\u001b[0m\u001b[1;33m,\u001b[0m \u001b[0mIndexError\u001b[0m\u001b[1;33m,\u001b[0m \u001b[0mAttributeError\u001b[0m\u001b[1;33m)\u001b[0m\u001b[1;33m:\u001b[0m\u001b[1;33m\u001b[0m\u001b[1;33m\u001b[0m\u001b[0m\n\u001b[0;32m   1493\u001b[0m                 \u001b[1;32mpass\u001b[0m\u001b[1;33m\u001b[0m\u001b[1;33m\u001b[0m\u001b[0m\n\u001b[1;32m-> 1494\u001b[1;33m             \u001b[1;32mreturn\u001b[0m \u001b[0mself\u001b[0m\u001b[1;33m.\u001b[0m\u001b[0m_getitem_tuple\u001b[0m\u001b[1;33m(\u001b[0m\u001b[0mkey\u001b[0m\u001b[1;33m)\u001b[0m\u001b[1;33m\u001b[0m\u001b[1;33m\u001b[0m\u001b[0m\n\u001b[0m\u001b[0;32m   1495\u001b[0m         \u001b[1;32melse\u001b[0m\u001b[1;33m:\u001b[0m\u001b[1;33m\u001b[0m\u001b[1;33m\u001b[0m\u001b[0m\n\u001b[0;32m   1496\u001b[0m             \u001b[1;31m# we by definition only have the 0th axis\u001b[0m\u001b[1;33m\u001b[0m\u001b[1;33m\u001b[0m\u001b[1;33m\u001b[0m\u001b[0m\n",
      "\u001b[1;32m~\\Anaconda3\\lib\\site-packages\\pandas\\core\\indexing.py\u001b[0m in \u001b[0;36m_getitem_tuple\u001b[1;34m(self, tup)\u001b[0m\n\u001b[0;32m   2141\u001b[0m     \u001b[1;32mdef\u001b[0m \u001b[0m_getitem_tuple\u001b[0m\u001b[1;33m(\u001b[0m\u001b[0mself\u001b[0m\u001b[1;33m,\u001b[0m \u001b[0mtup\u001b[0m\u001b[1;33m)\u001b[0m\u001b[1;33m:\u001b[0m\u001b[1;33m\u001b[0m\u001b[1;33m\u001b[0m\u001b[0m\n\u001b[0;32m   2142\u001b[0m \u001b[1;33m\u001b[0m\u001b[0m\n\u001b[1;32m-> 2143\u001b[1;33m         \u001b[0mself\u001b[0m\u001b[1;33m.\u001b[0m\u001b[0m_has_valid_tuple\u001b[0m\u001b[1;33m(\u001b[0m\u001b[0mtup\u001b[0m\u001b[1;33m)\u001b[0m\u001b[1;33m\u001b[0m\u001b[1;33m\u001b[0m\u001b[0m\n\u001b[0m\u001b[0;32m   2144\u001b[0m         \u001b[1;32mtry\u001b[0m\u001b[1;33m:\u001b[0m\u001b[1;33m\u001b[0m\u001b[1;33m\u001b[0m\u001b[0m\n\u001b[0;32m   2145\u001b[0m             \u001b[1;32mreturn\u001b[0m \u001b[0mself\u001b[0m\u001b[1;33m.\u001b[0m\u001b[0m_getitem_lowerdim\u001b[0m\u001b[1;33m(\u001b[0m\u001b[0mtup\u001b[0m\u001b[1;33m)\u001b[0m\u001b[1;33m\u001b[0m\u001b[1;33m\u001b[0m\u001b[0m\n",
      "\u001b[1;32m~\\Anaconda3\\lib\\site-packages\\pandas\\core\\indexing.py\u001b[0m in \u001b[0;36m_has_valid_tuple\u001b[1;34m(self, key)\u001b[0m\n\u001b[0;32m    221\u001b[0m                 \u001b[1;32mraise\u001b[0m \u001b[0mIndexingError\u001b[0m\u001b[1;33m(\u001b[0m\u001b[1;34m'Too many indexers'\u001b[0m\u001b[1;33m)\u001b[0m\u001b[1;33m\u001b[0m\u001b[1;33m\u001b[0m\u001b[0m\n\u001b[0;32m    222\u001b[0m             \u001b[1;32mtry\u001b[0m\u001b[1;33m:\u001b[0m\u001b[1;33m\u001b[0m\u001b[1;33m\u001b[0m\u001b[0m\n\u001b[1;32m--> 223\u001b[1;33m                 \u001b[0mself\u001b[0m\u001b[1;33m.\u001b[0m\u001b[0m_validate_key\u001b[0m\u001b[1;33m(\u001b[0m\u001b[0mk\u001b[0m\u001b[1;33m,\u001b[0m \u001b[0mi\u001b[0m\u001b[1;33m)\u001b[0m\u001b[1;33m\u001b[0m\u001b[1;33m\u001b[0m\u001b[0m\n\u001b[0m\u001b[0;32m    224\u001b[0m             \u001b[1;32mexcept\u001b[0m \u001b[0mValueError\u001b[0m\u001b[1;33m:\u001b[0m\u001b[1;33m\u001b[0m\u001b[1;33m\u001b[0m\u001b[0m\n\u001b[0;32m    225\u001b[0m                 raise ValueError(\"Location based indexing can only have \"\n",
      "\u001b[1;32m~\\Anaconda3\\lib\\site-packages\\pandas\\core\\indexing.py\u001b[0m in \u001b[0;36m_validate_key\u001b[1;34m(self, key, axis)\u001b[0m\n\u001b[0;32m   2079\u001b[0m \u001b[1;33m\u001b[0m\u001b[0m\n\u001b[0;32m   2080\u001b[0m             \u001b[1;32mif\u001b[0m \u001b[0mlen\u001b[0m\u001b[1;33m(\u001b[0m\u001b[0marr\u001b[0m\u001b[1;33m)\u001b[0m \u001b[1;32mand\u001b[0m \u001b[1;33m(\u001b[0m\u001b[0marr\u001b[0m\u001b[1;33m.\u001b[0m\u001b[0mmax\u001b[0m\u001b[1;33m(\u001b[0m\u001b[1;33m)\u001b[0m \u001b[1;33m>=\u001b[0m \u001b[0mlen_axis\u001b[0m \u001b[1;32mor\u001b[0m \u001b[0marr\u001b[0m\u001b[1;33m.\u001b[0m\u001b[0mmin\u001b[0m\u001b[1;33m(\u001b[0m\u001b[1;33m)\u001b[0m \u001b[1;33m<\u001b[0m \u001b[1;33m-\u001b[0m\u001b[0mlen_axis\u001b[0m\u001b[1;33m)\u001b[0m\u001b[1;33m:\u001b[0m\u001b[1;33m\u001b[0m\u001b[1;33m\u001b[0m\u001b[0m\n\u001b[1;32m-> 2081\u001b[1;33m                 \u001b[1;32mraise\u001b[0m \u001b[0mIndexError\u001b[0m\u001b[1;33m(\u001b[0m\u001b[1;34m\"positional indexers are out-of-bounds\"\u001b[0m\u001b[1;33m)\u001b[0m\u001b[1;33m\u001b[0m\u001b[1;33m\u001b[0m\u001b[0m\n\u001b[0m\u001b[0;32m   2082\u001b[0m         \u001b[1;32melse\u001b[0m\u001b[1;33m:\u001b[0m\u001b[1;33m\u001b[0m\u001b[1;33m\u001b[0m\u001b[0m\n\u001b[0;32m   2083\u001b[0m             raise ValueError(\"Can only index by location with \"\n",
      "\u001b[1;31mIndexError\u001b[0m: positional indexers are out-of-bounds"
     ]
    }
   ],
   "source": [
    "a = 193\n",
    "display(csv_data.iloc[:,[0,a,a+1]].head(0))\n",
    "#display(csv_data.iloc[:,[0,a,a+1]].describe())\n",
    "yokohama = csv_data.iloc[:,[0,a,a+1]]\n",
    "#yokohama['diff_send', 'diff_receive'] = csv_data.iloc[:,1:3].diff()\n",
    "#yokohama = pd.concat([yokohama,csv_data.iloc[:,1:3].diff()], axis=1)\n",
    "yokohama = pd.concat([yokohama,csv_data.iloc[:,[a,a+1]].rolling(2).agg([lambda x:np.log(max(x)-min(x))])], axis=1)\n",
    "#yokohama['ratio_send', 'ratio_receive'] = csv_data.iloc[:,1:3].pct_change()\n",
    "yokohama = pd.concat([yokohama,csv_data.iloc[:,[a,a+1]].pct_change()], axis=1)\n",
    "yokohama = pd.concat([yokohama,csv_data.iloc[:,[a,a+1]].rolling(12).mean().fillna(0)], axis=1)\n",
    "yokohama.columns = ['DATE','横浜支店send(throughput)','横浜支店receive(throughput)','横浜支店send(diff)',\n",
    "                    '横浜支店receive(diff)','横浜支店send(ratio)','横浜支店receive(ratio)',\n",
    "                    '横浜支店receive(ave)','横浜支店send(ave)']\n",
    "#display(yokohama.head())\n",
    "\n",
    "plt.plot(yokohama.iloc[:,1], label=yokohama.columns[1])\n",
    "#plt.plot(yokohama.iloc[:,3], label=yokohama.columns[3])\n",
    "#plt.plot(yokohama.iloc[:,5]*100, label=yokohama.columns[5])\n",
    "#plt.plot(yokohama.iloc[:,7], label=yokohama.columns[7])\n",
    "plt.legend()\n",
    "plt.show()\n",
    "\n",
    "plt.plot(yokohama.iloc[0:2016,1].rolling(12).agg([lambda x:(max(x)-min(x))]).reset_index(drop=True))\n",
    "plt.plot(yokohama.iloc[2016:4032,1].rolling(12).agg([lambda x:(max(x)-min(x))]).reset_index(drop=True))\n",
    "plt.plot(yokohama.iloc[4032:6048,1].rolling(12).agg([lambda x:(max(x)-min(x))]).reset_index(drop=True))\n",
    "plt.plot(yokohama.iloc[6048:8064,1].rolling(12).agg([lambda x:(max(x)-min(x))]).reset_index(drop=True))\n",
    "plt.plot(yokohama.iloc[8064:8928,1].rolling(12).agg([lambda x:(max(x)-min(x))]).reset_index(drop=True))\n",
    "plt.show()\n",
    "\n",
    "fig, ax1 = plt.subplots()\n",
    "ax1.hist(np.log(yokohama.iloc[:,1]+0.0000001),bins=100, label='normal', color='red')\n",
    "#ax1.hist(yokohama.iloc[:,1],bins=100, label='normal', color='red')\n",
    "ax2 = ax1.twinx()\n",
    "ax2.hist(np.log(yokohama.iloc[:,1]+0.0000001),bins=100, cumulative=True, label='cumulative', histtype='step')\n",
    "#ax2.hist(yokohama.iloc[:,1],bins=100, cumulative=True, label='cumulative', histtype='step')\n",
    "plt.legend()\n",
    "plt.show()"
   ]
  },
  {
   "cell_type": "code",
   "execution_count": null,
   "metadata": {},
   "outputs": [],
   "source": [
    "sns.pairplot(csv_data.iloc[:,1:])\n",
    "plt.show()"
   ]
  },
  {
   "cell_type": "code",
   "execution_count": 34,
   "metadata": {},
   "outputs": [
    {
     "name": "stderr",
     "output_type": "stream",
     "text": [
      "No handles with labels found to put in legend.\n"
     ]
    },
    {
     "data": {
      "image/png": "[encoded data removed]",
      "text/plain": [
       "<Figure size 432x288 with 1 Axes>"
      ]
     },
     "metadata": {},
     "output_type": "display_data"
    }
   ],
   "source": [
    "#for i in range(0,8928,2016):\n",
    "plt.plot(yokohama.iloc[0:2016,1].rolling(12).agg([lambda x:(max(x)-min(x))]).reset_index(drop=True))\n",
    "plt.plot(yokohama.iloc[2016:4032,1].rolling(12).agg([lambda x:(max(x)-min(x))]).reset_index(drop=True))\n",
    "plt.plot(yokohama.iloc[4032:6048,1].rolling(12).agg([lambda x:(max(x)-min(x))]).reset_index(drop=True))\n",
    "plt.plot(yokohama.iloc[6048:8064,1].rolling(12).agg([lambda x:(max(x)-min(x))]).reset_index(drop=True))\n",
    "plt.plot(yokohama.iloc[8064:8928,1].rolling(12).agg([lambda x:(max(x)-min(x))]).reset_index(drop=True))\n",
    "plt.legend()\n",
    "plt.show()"
   ]
  },
  {
   "cell_type": "code",
   "execution_count": 26,
   "metadata": {},
   "outputs": [
    {
     "data": {
      "image/png": "[encoded data removed]",
      "text/plain": [
       "<Figure size 432x288 with 1 Axes>"
      ]
     },
     "metadata": {},
     "output_type": "display_data"
    }
   ],
   "source": [
    "sns.distplot(np.log(yokohama.iloc[0:2016,1].values), kde=False)\n",
    "sns.distplot(np.log(yokohama.iloc[2016:4032,1].values), kde=False)\n",
    "sns.distplot(np.log(yokohama.iloc[4032:6048,1].values), kde=False)\n",
    "sns.distplot(np.log(yokohama.iloc[6048:8064,1].values), kde=False)\n",
    "sns.distplot(np.log(yokohama.iloc[8064:8928,1].values), kde=False)\n",
    "plt.show()\n",
    "             "
   ]
  },
  {
   "cell_type": "code",
   "execution_count": 27,
   "metadata": {
    "scrolled": true
   },
   "outputs": [
    {
     "data": {
      "text/plain": [
       "<matplotlib.axes._subplots.AxesSubplot at 0x259d00877f0>"
      ]
     },
     "execution_count": 27,
     "metadata": {},
     "output_type": "execute_result"
    },
    {
     "data": {
      "image/png": "[encoded data removed]",
      "text/plain": [
       "<Figure size 432x288 with 1 Axes>"
      ]
     },
     "metadata": {},
     "output_type": "display_data"
    }
   ],
   "source": [
    "sns.lineplot(x=yokohama.index, y='横浜支店send(throughput)', data=yokohama)"
   ]
  },
  {
   "cell_type": "code",
   "execution_count": 35,
   "metadata": {},
   "outputs": [
    {
     "data": {
      "image/png": "[encoded data removed]",
      "text/plain": [
       "<Figure size 432x288 with 1 Axes>"
      ]
     },
     "metadata": {},
     "output_type": "display_data"
    },
    {
     "data": {
      "image/png": "[encoded data removed]",
      "text/plain": [
       "<Figure size 432x288 with 1 Axes>"
      ]
     },
     "metadata": {},
     "output_type": "display_data"
    },
    {
     "data": {
      "image/png": "[encoded data removed]",
      "text/plain": [
       "<Figure size 432x288 with 2 Axes>"
      ]
     },
     "metadata": {},
     "output_type": "display_data"
    }
   ],
   "source": [
    "yokohama.iloc[:,1].plot.line()\n",
    "plt.show()\n",
    "\n",
    "np.log(yokohama.iloc[:,2]).plot.hist(bins=100)\n",
    "plt.show()\n",
    "\n",
    "fig, ax1 = plt.subplots()\n",
    "ax1.hist(np.log(yokohama.iloc[:,2]),bins=100, label='normal', color='red')\n",
    "ax2 = ax1.twinx()\n",
    "ax2.hist(np.log(yokohama.iloc[:,2]),bins=100, cumulative=True, label='cumulative', histtype='step')\n",
    "plt.legend()\n",
    "plt.show()\n"
   ]
  },
  {
   "cell_type": "code",
   "execution_count": 36,
   "metadata": {},
   "outputs": [
    {
     "data": {
      "image/png": "[encoded data removed]",
      "text/plain": [
       "<Figure size 432x288 with 2 Axes>"
      ]
     },
     "metadata": {},
     "output_type": "display_data"
    }
   ],
   "source": [
    "fig, ax1 = plt.subplots()\n",
    "ax1 = sns.distplot(np.log(yokohama.iloc[:,2]),bins=100, label='normal', color='red')\n",
    "ax2 = ax1.twinx()\n",
    "sns.distplot(np.log(yokohama.iloc[:,2]),bins=100, label='cumulative', ax=ax2)\n",
    "#ax2.hist(np.log(yokohama.iloc[:,2]),bins=100, cumulative=True, label='cumulative', histtype='step')\n",
    "plt.legend()\n",
    "plt.show()"
   ]
  },
  {
   "cell_type": "code",
   "execution_count": 12,
   "metadata": {
    "collapsed": true
   },
   "outputs": [
    {
     "data": {
      "text/html": [
       "<div>\n",
       "<style scoped>\n",
       "    .dataframe tbody tr th:only-of-type {\n",
       "        vertical-align: middle;\n",
       "    }\n",
       "\n",
       "    .dataframe tbody tr th {\n",
       "        vertical-align: top;\n",
       "    }\n",
       "\n",
       "    .dataframe thead th {\n",
       "        text-align: right;\n",
       "    }\n",
       "</style>\n",
       "<table border=\"1\" class=\"dataframe\">\n",
       "  <thead>\n",
       "    <tr style=\"text-align: right;\">\n",
       "      <th></th>\n",
       "      <th>0</th>\n",
       "      <th>1</th>\n",
       "    </tr>\n",
       "  </thead>\n",
       "  <tbody>\n",
       "    <tr>\n",
       "      <th>0</th>\n",
       "      <td>0</td>\n",
       "      <td>0</td>\n",
       "    </tr>\n",
       "    <tr>\n",
       "      <th>1</th>\n",
       "      <td>1</td>\n",
       "      <td>1</td>\n",
       "    </tr>\n",
       "    <tr>\n",
       "      <th>2</th>\n",
       "      <td>2</td>\n",
       "      <td>2</td>\n",
       "    </tr>\n",
       "    <tr>\n",
       "      <th>3</th>\n",
       "      <td>3</td>\n",
       "      <td>3</td>\n",
       "    </tr>\n",
       "    <tr>\n",
       "      <th>4</th>\n",
       "      <td>4</td>\n",
       "      <td>4</td>\n",
       "    </tr>\n",
       "  </tbody>\n",
       "</table>\n",
       "</div>"
      ],
      "text/plain": [
       "   0  1\n",
       "0  0  0\n",
       "1  1  1\n",
       "2  2  2\n",
       "3  3  3\n",
       "4  4  4"
      ]
     },
     "metadata": {},
     "output_type": "display_data"
    },
    {
     "data": {
      "text/html": [
       "<div>\n",
       "<style scoped>\n",
       "    .dataframe tbody tr th:only-of-type {\n",
       "        vertical-align: middle;\n",
       "    }\n",
       "\n",
       "    .dataframe tbody tr th {\n",
       "        vertical-align: top;\n",
       "    }\n",
       "\n",
       "    .dataframe thead th {\n",
       "        text-align: right;\n",
       "    }\n",
       "</style>\n",
       "<table border=\"1\" class=\"dataframe\">\n",
       "  <thead>\n",
       "    <tr style=\"text-align: right;\">\n",
       "      <th></th>\n",
       "      <th>0</th>\n",
       "      <th>1</th>\n",
       "    </tr>\n",
       "  </thead>\n",
       "  <tbody>\n",
       "    <tr>\n",
       "      <th>195</th>\n",
       "      <td>195</td>\n",
       "      <td>195</td>\n",
       "    </tr>\n",
       "    <tr>\n",
       "      <th>196</th>\n",
       "      <td>196</td>\n",
       "      <td>196</td>\n",
       "    </tr>\n",
       "    <tr>\n",
       "      <th>197</th>\n",
       "      <td>197</td>\n",
       "      <td>197</td>\n",
       "    </tr>\n",
       "    <tr>\n",
       "      <th>198</th>\n",
       "      <td>198</td>\n",
       "      <td>198</td>\n",
       "    </tr>\n",
       "    <tr>\n",
       "      <th>199</th>\n",
       "      <td>199</td>\n",
       "      <td>199</td>\n",
       "    </tr>\n",
       "  </tbody>\n",
       "</table>\n",
       "</div>"
      ],
      "text/plain": [
       "       0    1\n",
       "195  195  195\n",
       "196  196  196\n",
       "197  197  197\n",
       "198  198  198\n",
       "199  199  199"
      ]
     },
     "metadata": {},
     "output_type": "display_data"
    },
    {
     "data": {
      "image/png": "[encoded data removed]",
      "text/plain": [
       "<Figure size 432x288 with 1 Axes>"
      ]
     },
     "metadata": {},
     "output_type": "display_data"
    },
    {
     "data": {
      "image/png": "[encoded data removed]",
      "text/plain": [
       "<Figure size 432x288 with 1 Axes>"
      ]
     },
     "metadata": {},
     "output_type": "display_data"
    }
   ],
   "source": [
    "x = range(0,200,1)\n",
    "y= x\n",
    "\n",
    "test_data = pd.DataFrame([x,y]).T\n",
    "display(test_data.head())\n",
    "display(test_data.tail())\n",
    "\n",
    "plt.scatter(x,y,s=20)\n",
    "plt.show()\n",
    "\n",
    "plt.plot(x,y)\n",
    "plt.show()\n",
    "\n",
    "\n"
   ]
  },
  {
   "cell_type": "code",
   "execution_count": 37,
   "metadata": {},
   "outputs": [
    {
     "name": "stdout",
     "output_type": "stream",
     "text": [
      "8929\n"
     ]
    },
    {
     "data": {
      "application/vnd.jupyter.widget-view+json": {
       "model_id": "fe771aaaee7f41169b4e560a823fb8ed",
       "version_major": 2,
       "version_minor": 0
      },
      "text/plain": [
       "HBox(children=(IntProgress(value=0, max=5929), HTML(value='')))"
      ]
     },
     "metadata": {},
     "output_type": "display_data"
    },
    {
     "name": "stdout",
     "output_type": "stream",
     "text": [
      "\n"
     ]
    },
    {
     "data": {
      "image/png": "[encoded data removed]",
      "text/plain": [
       "<Figure size 432x288 with 1 Axes>"
      ]
     },
     "metadata": {},
     "output_type": "display_data"
    }
   ],
   "source": [
    "from sklearn.neighbors import NearestNeighbors\n",
    "\n",
    "knn_vector_n = []\n",
    "knn_vector_n1 = []\n",
    "dist_vec = []\n",
    "indi_vec = []\n",
    "print(len(yokohama))\n",
    "for i in tqdm(range(0,len(yokohama)-3000)):\n",
    "    knn_vector_n = []\n",
    "    knn_vector_n1 = []\n",
    "    knn_vector_n.append(yokohama.iloc[i:i+3000,1:3].values.flatten())\n",
    "    knn_vector_n = np.array(knn_vector_n).reshape(-1,2)\n",
    "    knn_vector_n1.append(yokohama.iloc[i+3000,1:3].values.flatten())\n",
    "    knn_vector_n1 = np.array(knn_vector_n1).reshape(-1,2)\n",
    "    #print(knn_vector.shape)\n",
    "    #print(knn_vector)\n",
    "    KNN = NearestNeighbors(n_neighbors=1, algorithm='ball_tree').fit(knn_vector_n)\n",
    "    distance, indices = KNN.kneighbors(knn_vector_n1)\n",
    "    dist_vec.append(distance)\n",
    "    indi_vec.append(indices)\n",
    "    \n",
    "#knn_vector = np.array(knn_vector).reshape(-1,100)\n",
    "#KNN = NearestNeighbors(n_neighbors=2, algorithm='ball_tree').fit(knn_vector)\n",
    "#distance, indices = KNN.kneighbors(knn_vector)\n",
    "dist_vec = pd.Series(np.array(dist_vec).flatten())\n",
    "plt.plot(dist_vec)\n",
    "plt.show()"
   ]
  },
  {
   "cell_type": "code",
   "execution_count": 86,
   "metadata": {
    "scrolled": true
   },
   "outputs": [
    {
     "data": {
      "application/vnd.jupyter.widget-view+json": {
       "model_id": "3252b5ff780e4cef99a902cb4cb42969",
       "version_major": 2,
       "version_minor": 0
      },
      "text/plain": [
       "HBox(children=(IntProgress(value=0, max=191), HTML(value='')))"
      ]
     },
     "metadata": {},
     "output_type": "display_data"
    },
    {
     "name": "stdout",
     "output_type": "stream",
     "text": [
      "\n",
      "0      1.414214\n",
      "1      1.414214\n",
      "2      1.414214\n",
      "3      1.414214\n",
      "4      1.414214\n",
      "5      1.414214\n",
      "6      1.414214\n",
      "7      1.414214\n",
      "8      1.414214\n",
      "9      1.414214\n",
      "10     1.414214\n",
      "11     1.414214\n",
      "12     1.414214\n",
      "13     1.414214\n",
      "14     1.414214\n",
      "15     1.414214\n",
      "16     1.414214\n",
      "17     1.414214\n",
      "18     1.414214\n",
      "19     1.414214\n",
      "20     1.414214\n",
      "21     1.414214\n",
      "22     1.414214\n",
      "23     1.414214\n",
      "24     1.414214\n",
      "25     1.414214\n",
      "26     1.414214\n",
      "27     1.414214\n",
      "28     1.414214\n",
      "29     1.414214\n",
      "         ...   \n",
      "161    1.414214\n",
      "162    1.414214\n",
      "163    1.414214\n",
      "164    1.414214\n",
      "165    1.414214\n",
      "166    1.414214\n",
      "167    1.414214\n",
      "168    1.414214\n",
      "169    1.414214\n",
      "170    1.414214\n",
      "171    1.414214\n",
      "172    1.414214\n",
      "173    1.414214\n",
      "174    1.414214\n",
      "175    1.414214\n",
      "176    1.414214\n",
      "177    1.414214\n",
      "178    1.414214\n",
      "179    1.414214\n",
      "180    1.414214\n",
      "181    1.414214\n",
      "182    1.414214\n",
      "183    1.414214\n",
      "184    1.414214\n",
      "185    1.414214\n",
      "186    1.414214\n",
      "187    1.414214\n",
      "188    1.414214\n",
      "189    1.414214\n",
      "190    1.414214\n",
      "Length: 191, dtype: float64\n",
      "[array([[8]], dtype=int64), array([[8]], dtype=int64), array([[8]], dtype=int64), array([[8]], dtype=int64), array([[8]], dtype=int64), array([[8]], dtype=int64), array([[8]], dtype=int64), array([[8]], dtype=int64), array([[8]], dtype=int64), array([[8]], dtype=int64), array([[8]], dtype=int64), array([[8]], dtype=int64), array([[8]], dtype=int64), array([[8]], dtype=int64), array([[8]], dtype=int64), array([[8]], dtype=int64), array([[8]], dtype=int64), array([[8]], dtype=int64), array([[8]], dtype=int64), array([[8]], dtype=int64), array([[8]], dtype=int64), array([[8]], dtype=int64), array([[8]], dtype=int64), array([[8]], dtype=int64), array([[8]], dtype=int64), array([[8]], dtype=int64), array([[8]], dtype=int64), array([[8]], dtype=int64), array([[8]], dtype=int64), array([[8]], dtype=int64), array([[8]], dtype=int64), array([[8]], dtype=int64), array([[8]], dtype=int64), array([[8]], dtype=int64), array([[8]], dtype=int64), array([[8]], dtype=int64), array([[8]], dtype=int64), array([[8]], dtype=int64), array([[8]], dtype=int64), array([[8]], dtype=int64), array([[8]], dtype=int64), array([[8]], dtype=int64), array([[8]], dtype=int64), array([[8]], dtype=int64), array([[8]], dtype=int64), array([[8]], dtype=int64), array([[8]], dtype=int64), array([[8]], dtype=int64), array([[8]], dtype=int64), array([[8]], dtype=int64), array([[8]], dtype=int64), array([[8]], dtype=int64), array([[8]], dtype=int64), array([[8]], dtype=int64), array([[8]], dtype=int64), array([[8]], dtype=int64), array([[8]], dtype=int64), array([[8]], dtype=int64), array([[8]], dtype=int64), array([[8]], dtype=int64), array([[8]], dtype=int64), array([[8]], dtype=int64), array([[8]], dtype=int64), array([[8]], dtype=int64), array([[8]], dtype=int64), array([[8]], dtype=int64), array([[8]], dtype=int64), array([[8]], dtype=int64), array([[8]], dtype=int64), array([[8]], dtype=int64), array([[8]], dtype=int64), array([[8]], dtype=int64), array([[8]], dtype=int64), array([[8]], dtype=int64), array([[8]], dtype=int64), array([[8]], dtype=int64), array([[8]], dtype=int64), array([[8]], dtype=int64), array([[8]], dtype=int64), array([[8]], dtype=int64), array([[8]], dtype=int64), array([[8]], dtype=int64), array([[8]], dtype=int64), array([[8]], dtype=int64), array([[8]], dtype=int64), array([[8]], dtype=int64), array([[8]], dtype=int64), array([[8]], dtype=int64), array([[8]], dtype=int64), array([[8]], dtype=int64), array([[8]], dtype=int64), array([[8]], dtype=int64), array([[8]], dtype=int64), array([[8]], dtype=int64), array([[8]], dtype=int64), array([[8]], dtype=int64), array([[8]], dtype=int64), array([[8]], dtype=int64), array([[8]], dtype=int64), array([[8]], dtype=int64), array([[8]], dtype=int64), array([[8]], dtype=int64), array([[8]], dtype=int64), array([[8]], dtype=int64), array([[8]], dtype=int64), array([[8]], dtype=int64), array([[8]], dtype=int64), array([[8]], dtype=int64), array([[8]], dtype=int64), array([[8]], dtype=int64), array([[8]], dtype=int64), array([[8]], dtype=int64), array([[8]], dtype=int64), array([[8]], dtype=int64), array([[8]], dtype=int64), array([[8]], dtype=int64), array([[8]], dtype=int64), array([[8]], dtype=int64), array([[8]], dtype=int64), array([[8]], dtype=int64), array([[8]], dtype=int64), array([[8]], dtype=int64), array([[8]], dtype=int64), array([[8]], dtype=int64), array([[8]], dtype=int64), array([[8]], dtype=int64), array([[8]], dtype=int64), array([[8]], dtype=int64), array([[8]], dtype=int64), array([[8]], dtype=int64), array([[8]], dtype=int64), array([[8]], dtype=int64), array([[8]], dtype=int64), array([[8]], dtype=int64), array([[8]], dtype=int64), array([[8]], dtype=int64), array([[8]], dtype=int64), array([[8]], dtype=int64), array([[8]], dtype=int64), array([[8]], dtype=int64), array([[8]], dtype=int64), array([[8]], dtype=int64), array([[8]], dtype=int64), array([[8]], dtype=int64), array([[8]], dtype=int64), array([[8]], dtype=int64), array([[8]], dtype=int64), array([[8]], dtype=int64), array([[8]], dtype=int64), array([[8]], dtype=int64), array([[8]], dtype=int64), array([[8]], dtype=int64), array([[8]], dtype=int64), array([[8]], dtype=int64), array([[8]], dtype=int64), array([[8]], dtype=int64), array([[8]], dtype=int64), array([[8]], dtype=int64), array([[8]], dtype=int64), array([[8]], dtype=int64), array([[8]], dtype=int64), array([[8]], dtype=int64), array([[8]], dtype=int64), array([[8]], dtype=int64), array([[8]], dtype=int64), array([[8]], dtype=int64), array([[8]], dtype=int64), array([[8]], dtype=int64), array([[8]], dtype=int64), array([[8]], dtype=int64), array([[8]], dtype=int64), array([[8]], dtype=int64), array([[8]], dtype=int64), array([[8]], dtype=int64), array([[8]], dtype=int64), array([[8]], dtype=int64), array([[8]], dtype=int64), array([[8]], dtype=int64), array([[8]], dtype=int64), array([[8]], dtype=int64), array([[8]], dtype=int64), array([[8]], dtype=int64), array([[8]], dtype=int64), array([[8]], dtype=int64), array([[8]], dtype=int64), array([[8]], dtype=int64), array([[8]], dtype=int64), array([[8]], dtype=int64), array([[8]], dtype=int64), array([[8]], dtype=int64), array([[8]], dtype=int64)]\n"
     ]
    }
   ],
   "source": [
    "from sklearn.neighbors import NearestNeighbors\n",
    "\n",
    "knn_vector_n = []\n",
    "knn_vector_n1 = []\n",
    "dist_vec = []\n",
    "indi_vec = []\n",
    "\n",
    "for i in tqdm(range(0,len(test_data)-9)):\n",
    "    knn_vector_n = []\n",
    "    knn_vector_n1 = []\n",
    "    knn_vector_n = test_data.iloc[i:i+9,0:2].values.reshape(-1,2)\n",
    "    knn_vector_n1 = test_data.iloc[i+9,0:2].values.reshape(-1,2)\n",
    "\n",
    "    KNN = NearestNeighbors(n_neighbors=1, algorithm='ball_tree').fit(knn_vector_n)\n",
    "    distance, indices = KNN.kneighbors(knn_vector_n1)\n",
    "    dist_vec.append(distance)\n",
    "    indi_vec.append(indices)\n",
    "    \n",
    "dist_vec = pd.Series(np.array(dist_vec).flatten())\n",
    "print(dist_vec)\n",
    "print(indi_vec)\n",
    "\n"
   ]
  },
  {
   "cell_type": "code",
   "execution_count": 32,
   "metadata": {},
   "outputs": [
    {
     "data": {
      "image/png": "[encoded data removed]",
      "text/plain": [
       "<Figure size 432x288 with 1 Axes>"
      ]
     },
     "metadata": {},
     "output_type": "display_data"
    }
   ],
   "source": [
    "plt.plot(dist_vec)\n",
    "plt.show()"
   ]
  }
 ],
 "metadata": {
  "kernelspec": {
   "display_name": "Python 3",
   "language": "python",
   "name": "python3"
  },
  "language_info": {
   "codemirror_mode": {
    "name": "ipython",
    "version": 3
   },
   "file_extension": ".py",
   "mimetype": "text/x-python",
   "name": "python",
   "nbconvert_exporter": "python",
   "pygments_lexer": "ipython3",
   "version": "3.7.3"
  }
 },
 "nbformat": 4,
 "nbformat_minor": 2
}
